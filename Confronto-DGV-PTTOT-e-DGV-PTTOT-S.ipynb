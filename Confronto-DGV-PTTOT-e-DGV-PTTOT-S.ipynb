{
 "cells": [
  {
   "cell_type": "markdown",
   "metadata": {},
   "source": [
    "# Confronto tra DGV-PTTOT e DGV-PTTOT-S\n",
    "Di seguito, confrontiamo il modello ottimizzato (HP tuning con 100 esperimenti) usando tutto il dataset per DGV-PTTOT e il modello ottimizzato usando il sottoinsieme del precedente dataset (HP tuning con 500 esperimenti). Entrambi i modelli sono riaddestrati e testati usando rispettivamente il training e il test set completo."
   ]
  },
  {
   "cell_type": "code",
   "execution_count": 1,
   "metadata": {},
   "outputs": [],
   "source": [
    "import pandas as pd\n",
    "import matplotlib.pyplot as plt\n",
    "from cosmo_dlp.model import CosmoData, CosmoPredictor\n",
    "import pickle\n",
    "import io\n",
    "import yaml\n",
    "import seaborn as sns\n",
    "import numpy as np\n",
    "import os.path\n",
    "sns.set_theme(style=\"whitegrid\")\n",
    "\n",
    "train_df = pd.read_csv(\"data/input/DGV_PTTOT_train.csv\")\n",
    "test_df = pd.read_csv(\"data/input/DGV_PTTOT_test.csv\")\n",
    "all_df = pd.concat([train_df, test_df])"
   ]
  },
  {
   "cell_type": "markdown",
   "metadata": {},
   "source": [
    "Addestro il modello DGV-PTTOT (o carico i risultati, se l'ho già eseguito):"
   ]
  },
  {
   "cell_type": "code",
   "execution_count": 2,
   "metadata": {},
   "outputs": [
    {
     "name": "stdout",
     "output_type": "stream",
     "text": [
      "Carico i risultati del modello da file\n"
     ]
    }
   ],
   "source": [
    "train_res_tot_file = \"data/output/DGV_PTTOT_train_result.csv\"\n",
    "test_res_tot_file = \"data/output/DGV_PTTOT_test_result.csv\"\n",
    "\n",
    "if os.path.exists(train_res_tot_file) and os.path.exists(test_res_tot_file):\n",
    "    print(\"Carico i risultati del modello da file\")\n",
    "else:\n",
    "    with open(\"data/hpopt/DGV_PTTOT.pk\", \"rb\") as fp:\n",
    "        trials = pickle.load(fp)\n",
    "        best = trials.best_trial\n",
    "        \n",
    "    config = best[\"result\"][\"config\"]\n",
    "    cv_res = pd.read_csv(io.StringIO(best[\"result\"][\"csv\"]))\n",
    "    best_epoch = cv_res.groupby(\"epoch\").val_loss.mean().idxmin()\n",
    "    \n",
    "    data = CosmoData(train_df, None, test_df, config[\"batch\"])\n",
    "    model = CosmoPredictor(data.input_size, config)\n",
    "    train_res_tot = model.fit(data, best_epoch)\n",
    "    test_res_tot = model.test(data)\n",
    "    train_res_tot.to_csv(train_res_tot_file, index=False)\n",
    "    test_res_tot.to_csv(test_res_tot_file, index=False)\n",
    "    \n",
    "train_res_tot = pd.read_csv(train_res_tot_file)\n",
    "test_res_tot = pd.read_csv(test_res_tot_file)"
   ]
  },
  {
   "cell_type": "markdown",
   "metadata": {},
   "source": [
    "Addestro il modello DGV-PTTOT-S (o carico i risultati, se l'ho già eseguito):"
   ]
  },
  {
   "cell_type": "code",
   "execution_count": 3,
   "metadata": {},
   "outputs": [
    {
     "name": "stdout",
     "output_type": "stream",
     "text": [
      "Carico i risultati del modello da file\n"
     ]
    }
   ],
   "source": [
    "train_res_par_file = \"data/output/DGV_PTTOT_S_ALL_train_result.csv\"\n",
    "test_res_par_file = \"data/output/DGV_PTTOT_S_ALL_test_result.csv\"\n",
    "\n",
    "if os.path.exists(train_res_par_file) and os.path.exists(test_res_par_file):\n",
    "    print(\"Carico i risultati del modello da file\")\n",
    "else:\n",
    "    with open(\"data/hpopt/DGV_PTTOT_S.pk\", \"rb\") as fp:\n",
    "        trials = pickle.load(fp)\n",
    "        best = trials.best_trial\n",
    "        \n",
    "    config = best[\"result\"][\"config\"]\n",
    "    cv_res = pd.read_csv(io.StringIO(best[\"result\"][\"csv\"]))\n",
    "    best_epoch = cv_res.groupby(\"epoch\").val_loss.mean().idxmin()\n",
    "    \n",
    "    data = CosmoData(train_df, None, test_df, config[\"batch\"])\n",
    "    model = CosmoPredictor(data.input_size, config)\n",
    "    train_res_par = model.fit(data, best_epoch)\n",
    "    test_res_par = model.test(data)\n",
    "    train_res_par.to_csv(train_res_par_file, index=False)\n",
    "    test_res_par.to_csv(test_res_par_file, index=False)\n",
    "    \n",
    "train_res_par = pd.read_csv(train_res_par_file)\n",
    "test_res_par = pd.read_csv(test_res_par_file)"
   ]
  },
  {
   "cell_type": "markdown",
   "metadata": {},
   "source": [
    "Possiamo notare come il modello DGV-PTTOT-S si comporti in modo lievemente peggiore ma analogo rispetto al modello DGV-PTTOT."
   ]
  },
  {
   "cell_type": "code",
   "execution_count": 4,
   "metadata": {},
   "outputs": [
    {
     "data": {
      "text/html": [
       "<div>\n",
       "<style scoped>\n",
       "    .dataframe tbody tr th:only-of-type {\n",
       "        vertical-align: middle;\n",
       "    }\n",
       "\n",
       "    .dataframe tbody tr th {\n",
       "        vertical-align: top;\n",
       "    }\n",
       "\n",
       "    .dataframe thead th {\n",
       "        text-align: right;\n",
       "    }\n",
       "</style>\n",
       "<table border=\"1\" class=\"dataframe\">\n",
       "  <thead>\n",
       "    <tr style=\"text-align: right;\">\n",
       "      <th></th>\n",
       "      <th>abs_err</th>\n",
       "      <th>rel_err</th>\n",
       "    </tr>\n",
       "  </thead>\n",
       "  <tbody>\n",
       "    <tr>\n",
       "      <th>count</th>\n",
       "      <td>139000.000000</td>\n",
       "      <td>1.390000e+05</td>\n",
       "    </tr>\n",
       "    <tr>\n",
       "      <th>mean</th>\n",
       "      <td>52.583493</td>\n",
       "      <td>3.339884e-02</td>\n",
       "    </tr>\n",
       "    <tr>\n",
       "      <th>std</th>\n",
       "      <td>153.926033</td>\n",
       "      <td>4.604786e-02</td>\n",
       "    </tr>\n",
       "    <tr>\n",
       "      <th>min</th>\n",
       "      <td>0.000011</td>\n",
       "      <td>4.348473e-07</td>\n",
       "    </tr>\n",
       "    <tr>\n",
       "      <th>25%</th>\n",
       "      <td>3.504526</td>\n",
       "      <td>9.946890e-03</td>\n",
       "    </tr>\n",
       "    <tr>\n",
       "      <th>50%</th>\n",
       "      <td>11.202888</td>\n",
       "      <td>2.182245e-02</td>\n",
       "    </tr>\n",
       "    <tr>\n",
       "      <th>75%</th>\n",
       "      <td>37.587463</td>\n",
       "      <td>4.003703e-02</td>\n",
       "    </tr>\n",
       "    <tr>\n",
       "      <th>max</th>\n",
       "      <td>6012.777344</td>\n",
       "      <td>7.752898e-01</td>\n",
       "    </tr>\n",
       "  </tbody>\n",
       "</table>\n",
       "</div>"
      ],
      "text/plain": [
       "             abs_err       rel_err\n",
       "count  139000.000000  1.390000e+05\n",
       "mean       52.583493  3.339884e-02\n",
       "std       153.926033  4.604786e-02\n",
       "min         0.000011  4.348473e-07\n",
       "25%         3.504526  9.946890e-03\n",
       "50%        11.202888  2.182245e-02\n",
       "75%        37.587463  4.003703e-02\n",
       "max      6012.777344  7.752898e-01"
      ]
     },
     "execution_count": 4,
     "metadata": {},
     "output_type": "execute_result"
    }
   ],
   "source": [
    "test_res_tot[\"abs_err\"] = (test_res_tot.target - test_res_tot.prediction).abs()\n",
    "test_res_tot[\"rel_err\"] = test_res_tot.abs_err / test_res_tot.target\n",
    "test_res_tot[\"residual\"] = test_res_tot.target - test_res_tot.prediction\n",
    "test_res_tot[[\"abs_err\", \"rel_err\"]].describe()"
   ]
  },
  {
   "cell_type": "code",
   "execution_count": 5,
   "metadata": {},
   "outputs": [
    {
     "data": {
      "text/html": [
       "<div>\n",
       "<style scoped>\n",
       "    .dataframe tbody tr th:only-of-type {\n",
       "        vertical-align: middle;\n",
       "    }\n",
       "\n",
       "    .dataframe tbody tr th {\n",
       "        vertical-align: top;\n",
       "    }\n",
       "\n",
       "    .dataframe thead th {\n",
       "        text-align: right;\n",
       "    }\n",
       "</style>\n",
       "<table border=\"1\" class=\"dataframe\">\n",
       "  <thead>\n",
       "    <tr style=\"text-align: right;\">\n",
       "      <th></th>\n",
       "      <th>abs_err</th>\n",
       "      <th>rel_err</th>\n",
       "    </tr>\n",
       "  </thead>\n",
       "  <tbody>\n",
       "    <tr>\n",
       "      <th>count</th>\n",
       "      <td>139000.000000</td>\n",
       "      <td>139000.000000</td>\n",
       "    </tr>\n",
       "    <tr>\n",
       "      <th>mean</th>\n",
       "      <td>64.923353</td>\n",
       "      <td>0.042130</td>\n",
       "    </tr>\n",
       "    <tr>\n",
       "      <th>std</th>\n",
       "      <td>172.982417</td>\n",
       "      <td>0.066917</td>\n",
       "    </tr>\n",
       "    <tr>\n",
       "      <th>min</th>\n",
       "      <td>0.000000</td>\n",
       "      <td>0.000000</td>\n",
       "    </tr>\n",
       "    <tr>\n",
       "      <th>25%</th>\n",
       "      <td>4.190115</td>\n",
       "      <td>0.012162</td>\n",
       "    </tr>\n",
       "    <tr>\n",
       "      <th>50%</th>\n",
       "      <td>13.578278</td>\n",
       "      <td>0.026635</td>\n",
       "    </tr>\n",
       "    <tr>\n",
       "      <th>75%</th>\n",
       "      <td>48.873077</td>\n",
       "      <td>0.049256</td>\n",
       "    </tr>\n",
       "    <tr>\n",
       "      <th>max</th>\n",
       "      <td>4325.542969</td>\n",
       "      <td>1.043069</td>\n",
       "    </tr>\n",
       "  </tbody>\n",
       "</table>\n",
       "</div>"
      ],
      "text/plain": [
       "             abs_err        rel_err\n",
       "count  139000.000000  139000.000000\n",
       "mean       64.923353       0.042130\n",
       "std       172.982417       0.066917\n",
       "min         0.000000       0.000000\n",
       "25%         4.190115       0.012162\n",
       "50%        13.578278       0.026635\n",
       "75%        48.873077       0.049256\n",
       "max      4325.542969       1.043069"
      ]
     },
     "execution_count": 5,
     "metadata": {},
     "output_type": "execute_result"
    }
   ],
   "source": [
    "test_res_par[\"abs_err\"] = (test_res_par.target - test_res_par.prediction).abs()\n",
    "test_res_par[\"rel_err\"] = test_res_par.abs_err / test_res_par.target\n",
    "test_res_par[\"residual\"] = test_res_par.target - test_res_par.prediction\n",
    "test_res_par[[\"abs_err\", \"rel_err\"]].describe()"
   ]
  },
  {
   "cell_type": "code",
   "execution_count": 6,
   "metadata": {},
   "outputs": [
    {
     "name": "stdout",
     "output_type": "stream",
     "text": [
      "MAE DGV-PTTOT: 52.5834932143208\n",
      "MAE DGV-PTTOT-S: 64.92335280106565\n"
     ]
    }
   ],
   "source": [
    "for name, df in zip((\"DGV-PTTOT\", \"DGV-PTTOT-S\"), (test_res_tot, test_res_par)):\n",
    "    print(f\"MAE {name}:\", df.abs_err.mean())"
   ]
  },
  {
   "cell_type": "code",
   "execution_count": 7,
   "metadata": {},
   "outputs": [
    {
     "name": "stdout",
     "output_type": "stream",
     "text": [
      "RMSE DGV-PTTOT: 162.659389709988\n",
      "RMSE DGV-PTTOT-S: 184.7640195449011\n"
     ]
    }
   ],
   "source": [
    "for name, df in zip((\"DGV-PTTOT\", \"DGV-PTTOT-S\"), (test_res_tot, test_res_par)):\n",
    "    print(f\"RMSE {name}:\", np.sqrt((df.abs_err ** 2).mean()))"
   ]
  },
  {
   "cell_type": "code",
   "execution_count": 8,
   "metadata": {},
   "outputs": [
    {
     "name": "stdout",
     "output_type": "stream",
     "text": [
      "MAPE DGV-PTTOT: 3.339884130376464\n",
      "MAPE DGV-PTTOT-S: 4.213042934957242\n"
     ]
    }
   ],
   "source": [
    "for name, df in zip((\"DGV-PTTOT\", \"DGV-PTTOT-S\"), (test_res_tot, test_res_par)):\n",
    "    print(f\"MAPE {name}:\", 100 * df.rel_err.mean())"
   ]
  },
  {
   "cell_type": "markdown",
   "metadata": {},
   "source": [
    "Anche analizzando la distribuzione dell'errore notiamo una forte somiglianza."
   ]
  },
  {
   "cell_type": "code",
   "execution_count": 9,
   "metadata": {},
   "outputs": [
    {
     "data": {
      "image/png": "[encoded data removed]",
      "text/plain": [
       "<Figure size 432x288 with 1 Axes>"
      ]
     },
     "metadata": {},
     "output_type": "display_data"
    },
    {
     "data": {
      "image/png": "[encoded data removed]",
      "text/plain": [
       "<Figure size 432x288 with 1 Axes>"
      ]
     },
     "metadata": {},
     "output_type": "display_data"
    }
   ],
   "source": [
    "for name, df in zip((\"DGV-PTTOT\", \"DGV-PTTOT-S\"), (test_res_tot, test_res_par)):\n",
    "    sns.kdeplot(data=df.query(\"abs_err > 0\"), x=\"abs_err\", log_scale=True, cumulative=True, cut=0, label=name)\n",
    "    \n",
    "plt.legend()\n",
    "plt.xlabel(\"Absolute error (s)\")\n",
    "plt.ylabel(\"Cumulative distribution\")\n",
    "plt.savefig(\"tex/images/dgv-pttot-pttot-s/cdf-errore-assoluto.pdf\")\n",
    "plt.show()\n",
    "\n",
    "for name, df in zip((\"DGV-PTTOT\", \"DGV-PTTOT-S\"), (test_res_tot, test_res_par)):\n",
    "    sns.kdeplot(data=df.query(\"rel_err > 0\"), x=\"rel_err\", log_scale=True, cumulative=True, cut=0, label=name)\n",
    "    \n",
    "plt.legend()\n",
    "plt.xlabel(\"Relative error\")\n",
    "plt.ylabel(\"Cumulative distribution\")\n",
    "plt.savefig(\"tex/images/dgv-pttot-pttot-s/cdf-errore-relativo.pdf\")\n",
    "plt.show()"
   ]
  },
  {
   "cell_type": "code",
   "execution_count": 10,
   "metadata": {},
   "outputs": [
    {
     "data": {
      "image/png": "[encoded data removed]",
      "text/plain": [
       "<Figure size 432x288 with 1 Axes>"
      ]
     },
     "metadata": {},
     "output_type": "display_data"
    },
    {
     "data": {
      "image/png": "[encoded data removed]",
      "text/plain": [
       "<Figure size 432x288 with 1 Axes>"
      ]
     },
     "metadata": {},
     "output_type": "display_data"
    }
   ],
   "source": [
    "for name, df in zip((\"DGV-PTTOT\", \"DGV-PTTOT-S\"), (test_res_tot, test_res_par)):\n",
    "    sns.kdeplot(data=df.query(\"abs_err > 0\"), x=\"abs_err\", log_scale=True, cumulative=False, cut=0, label=name)\n",
    "    \n",
    "plt.legend()\n",
    "plt.xlabel(\"Absolute error (s)\")\n",
    "plt.ylabel(\"Distribution density\")\n",
    "plt.savefig(\"tex/images/dgv-pttot-pttot-s/pdf-errore-assoluto.pdf\")\n",
    "plt.show()\n",
    "\n",
    "for name, df in zip((\"DGV-PTTOT\", \"DGV-PTTOT-S\"), (test_res_tot, test_res_par)):\n",
    "    sns.kdeplot(data=df.query(\"abs_err > 0\"), x=\"rel_err\", log_scale=True, cumulative=False, cut=0, label=name)\n",
    "    \n",
    "plt.xlabel(\"Relative error\")\n",
    "plt.ylabel(\"Distribution density\")\n",
    "plt.legend()\n",
    "plt.savefig(\"tex/images/dgv-pttot-pttot-s/pdf-errore-relativo.pdf\")\n",
    "plt.show()"
   ]
  },
  {
   "cell_type": "markdown",
   "metadata": {},
   "source": [
    "I due modelli sono abbastanza simili."
   ]
  },
  {
   "cell_type": "code",
   "execution_count": 11,
   "metadata": {},
   "outputs": [
    {
     "name": "stdout",
     "output_type": "stream",
     "text": [
      "Modello DGV-PTTOT\n",
      "batch: 256\n",
      "epochs: 500\n",
      "kfold: 10\n",
      "loss: mae\n",
      "model:\n",
      "  layers: !!python/tuple\n",
      "  - dropout: 0.0\n",
      "    size: 47\n",
      "  - dropout: 0.0\n",
      "    size: 49\n",
      "  - dropout: 0.0\n",
      "    size: 40\n",
      "optimizer:\n",
      "  lr: 0.0038099215615586793\n",
      "  name: adam\n",
      "  weight_decay: 0.03490142737360863\n",
      "\n",
      "Modello DGV-PTTOT-S\n",
      "batch: 64\n",
      "epochs: 500\n",
      "kfold: 10\n",
      "loss: mae\n",
      "model:\n",
      "  layers: !!python/tuple\n",
      "  - dropout: 0.0\n",
      "    size: 42\n",
      "  - dropout: 0.0\n",
      "    size: 24\n",
      "  - dropout: 0.0\n",
      "    size: 54\n",
      "optimizer:\n",
      "  lr: 0.0014092384643065352\n",
      "  name: adam\n",
      "  weight_decay: 0.06052921153575907\n",
      "\n"
     ]
    }
   ],
   "source": [
    "with open(\"data/hpopt/DGV_PTTOT.pk\", \"rb\") as fp:\n",
    "    trials = pickle.load(fp)\n",
    "    best = trials.best_trial\n",
    "        \n",
    "    config = best[\"result\"][\"config\"]\n",
    "    print(\"Modello DGV-PTTOT\")\n",
    "    print(yaml.dump(config))\n",
    "    \n",
    "with open(\"data/hpopt/DGV_PTTOT_S.pk\", \"rb\") as fp:\n",
    "    trials = pickle.load(fp)\n",
    "    best = trials.best_trial\n",
    "        \n",
    "    config = best[\"result\"][\"config\"]\n",
    "    print(\"Modello DGV-PTTOT-S\")\n",
    "    print(yaml.dump(config))"
   ]
  },
  {
   "cell_type": "markdown",
   "metadata": {},
   "source": [
    "## Conclusioni\n",
    "I due modelli hanno prestazioni analoghe, ma DGV-PTTOT è lievemente migliore. Si può concludere che:\n",
    "- il maggior numero di esperimenti pesa meno del minor numero di dati\n",
    "- il sostanziale minor numero di dati usato nell'HP tuning di DGV-PTTOT-S non influisce drasticamente sulla qualità del modello, probabilmente perché il modello riesce ad apprendere molto facilmente una relazione sostanzialmente lineare tra il numero di ore e il tempo di esecuzione per una data configurazione.\n",
    "\n",
    "Tuttavia, possiamo notare che il tempo speso per l'HP tuning di DGV-PTTOT è sensibilmente maggiore di quello speso per DGV-PTTOT-S."
   ]
  },
  {
   "cell_type": "code",
   "execution_count": 12,
   "metadata": {},
   "outputs": [
    {
     "name": "stdout",
     "output_type": "stream",
     "text": [
      "DGV-PTTOT:   tempo totale HP tuning: 10 days, 6:28:25.145000, tempo medio per esperimento: 2:27:53.051450, numero esperimenti: 100\n",
      "DGV-PTTOT-S: tempo totale HP tuning: 1 day, 22:34:46.795000, tempo medio per esperimento: 0:05:35.373590, numero esperimenti: 500\n"
     ]
    }
   ],
   "source": [
    "from datetime import timedelta\n",
    "with open(\"data/hpopt/DGV_PTTOT.pk\", \"rb\") as fp:\n",
    "    trials = pickle.load(fp)\n",
    "    total_time = timedelta(0)\n",
    "    for t in trials.trials:\n",
    "        total_time += t[\"refresh_time\"] - t[\"book_time\"]\n",
    "        \n",
    "print(f\"DGV-PTTOT:   tempo totale HP tuning: {total_time}, tempo medio per esperimento: {total_time/len(trials)}, numero esperimenti: {len(trials)}\")\n",
    "\n",
    "from datetime import timedelta\n",
    "with open(\"data/hpopt/DGV_PTTOT_S.pk\", \"rb\") as fp:\n",
    "    trials = pickle.load(fp)\n",
    "    total_time = timedelta(0)\n",
    "    for t in trials.trials:\n",
    "        total_time += t[\"refresh_time\"] - t[\"book_time\"]\n",
    "        \n",
    "print(f\"DGV-PTTOT-S: tempo totale HP tuning: {total_time}, tempo medio per esperimento: {total_time/len(trials)}, numero esperimenti: {len(trials)}\")"
   ]
  }
 ],
 "metadata": {
  "kernelspec": {
   "display_name": "Python 3",
   "language": "python",
   "name": "python3"
  },
  "language_info": {
   "codemirror_mode": {
    "name": "ipython",
    "version": 3
   },
   "file_extension": ".py",
   "mimetype": "text/x-python",
   "name": "python",
   "nbconvert_exporter": "python",
   "pygments_lexer": "ipython3",
   "version": "3.8.7"
  }
 },
 "nbformat": 4,
 "nbformat_minor": 4
}
