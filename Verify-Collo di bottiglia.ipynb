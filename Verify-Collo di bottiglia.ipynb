{
 "cells": [
  {
   "cell_type": "markdown",
   "metadata": {},
   "source": [
    "Semplice e veloce quanto incompleta verifica dell'affermazione in https://wiki.c2sm.ethz.ch/pub/COSMO/ProjPOMPATask1/report_hp2c_profiling.pdf (purtroppo, recentemente diventato un broken link):\n",
    "\n",
    "> Initial benchmarking of COSMO (COSMO 4.10 RAPS benchmark) tends to indicate that memory bandwidth is a key limitation. Table 1 lists timings of the overall model (at 7km resolution) – split into dynamics and physics parts. When run on identical numbers of cores, but on different numbers of nodes or sockets (1 or 2 per node), the use  of more nodes/sockets with fewer cores per node/socket allows the cores a higher proportion of the node’s memory bandwidth. Since reducing the number of cores reduces  the execution times noticeably, we conclude that memory bandwidth is one of possibly several bottlenecks. In other words, many (but not all) of the computational routines suffer from low computational intensity (floating point operations per memory access) and low cache reuse. Note also that these results are a strong function of the ratio of node peak performance to memory bandwidth of the specific architecture.\n",
    "\n",
    "La cosa si può verificare andando a prendere dei job con medesima configurazione tranne che per l'uso di un diverso numero di nodi e core per nodo, ma che hanno lo stesso numero di processi e guardando il tempo di esecuzione."
   ]
  },
  {
   "cell_type": "code",
   "execution_count": 1,
   "metadata": {},
   "outputs": [],
   "source": [
    "import pandas as pd"
   ]
  },
  {
   "cell_type": "code",
   "execution_count": 2,
   "metadata": {},
   "outputs": [],
   "source": [
    "df = pd.read_csv(\"fixed_area_results.csv\")"
   ]
  },
  {
   "cell_type": "markdown",
   "metadata": {},
   "source": [
    "Prendiamo la risoluzione massima e doppia precisione, che sono quelle che hanno tempi più lunghi e quindi in cui si apprezzano maggiormente le variazioni di tempo di esecuzione. Uso `subdomain_ratio = 1` perchè è quello generalmente con più combinazioni presenti."
   ]
  },
  {
   "cell_type": "code",
   "execution_count": 3,
   "metadata": {},
   "outputs": [
    {
     "data": {
      "text/plain": [
       "n_procs\n",
       "196     1\n",
       "256     1\n",
       "324     1\n",
       "400     2\n",
       "484     1\n",
       "576     5\n",
       "600     6\n",
       "676     1\n",
       "784     3\n",
       "812     4\n",
       "900     4\n",
       "930     2\n",
       "1024    1\n",
       "1056    6\n",
       "1156    1\n",
       "1190    2\n",
       "1296    2\n",
       "1332    2\n",
       "1368    4\n",
       "1560    4\n",
       "1600    1\n",
       "1764    1\n",
       "1980    2\n",
       "Name: n_procs, dtype: int64"
      ]
     },
     "execution_count": 3,
     "metadata": {},
     "output_type": "execute_result"
    }
   ],
   "source": [
    "df.query(\"grid_step==20 and subdomain_ratio == 1 and single_precision == 0\").groupby(\"n_procs\")[\"n_procs\"].count()"
   ]
  },
  {
   "cell_type": "markdown",
   "metadata": {},
   "source": [
    "Prendo in considerazione i job con numero di processi pari a 576, 600 e 1056, che hanno un po' di combinazioni diverse."
   ]
  },
  {
   "cell_type": "code",
   "execution_count": 4,
   "metadata": {},
   "outputs": [
    {
     "data": {
      "text/html": [
       "<div>\n",
       "<style scoped>\n",
       "    .dataframe tbody tr th:only-of-type {\n",
       "        vertical-align: middle;\n",
       "    }\n",
       "\n",
       "    .dataframe tbody tr th {\n",
       "        vertical-align: top;\n",
       "    }\n",
       "\n",
       "    .dataframe thead th {\n",
       "        text-align: right;\n",
       "    }\n",
       "</style>\n",
       "<table border=\"1\" class=\"dataframe\">\n",
       "  <thead>\n",
       "    <tr style=\"text-align: right;\">\n",
       "      <th></th>\n",
       "      <th>n_nodes</th>\n",
       "      <th>n_cores</th>\n",
       "      <th>time2</th>\n",
       "    </tr>\n",
       "  </thead>\n",
       "  <tbody>\n",
       "    <tr>\n",
       "      <th>447</th>\n",
       "      <td>16</td>\n",
       "      <td>36</td>\n",
       "      <td>31.61</td>\n",
       "    </tr>\n",
       "    <tr>\n",
       "      <th>567</th>\n",
       "      <td>18</td>\n",
       "      <td>32</td>\n",
       "      <td>28.46</td>\n",
       "    </tr>\n",
       "    <tr>\n",
       "      <th>935</th>\n",
       "      <td>24</td>\n",
       "      <td>24</td>\n",
       "      <td>25.48</td>\n",
       "    </tr>\n",
       "    <tr>\n",
       "      <th>1465</th>\n",
       "      <td>32</td>\n",
       "      <td>18</td>\n",
       "      <td>24.03</td>\n",
       "    </tr>\n",
       "    <tr>\n",
       "      <th>1757</th>\n",
       "      <td>36</td>\n",
       "      <td>16</td>\n",
       "      <td>23.91</td>\n",
       "    </tr>\n",
       "  </tbody>\n",
       "</table>\n",
       "</div>"
      ],
      "text/plain": [
       "      n_nodes  n_cores  time2\n",
       "447        16       36  31.61\n",
       "567        18       32  28.46\n",
       "935        24       24  25.48\n",
       "1465       32       18  24.03\n",
       "1757       36       16  23.91"
      ]
     },
     "execution_count": 4,
     "metadata": {},
     "output_type": "execute_result"
    }
   ],
   "source": [
    "df.query(\"grid_step==20 and subdomain_ratio == 1 and single_precision == 1 and n_procs == 576\")[[\"n_nodes\", \"n_cores\", \"time2\"]].sort_values([\"n_nodes\", \"n_cores\"])"
   ]
  },
  {
   "cell_type": "code",
   "execution_count": 5,
   "metadata": {},
   "outputs": [
    {
     "data": {
      "text/html": [
       "<div>\n",
       "<style scoped>\n",
       "    .dataframe tbody tr th:only-of-type {\n",
       "        vertical-align: middle;\n",
       "    }\n",
       "\n",
       "    .dataframe tbody tr th {\n",
       "        vertical-align: top;\n",
       "    }\n",
       "\n",
       "    .dataframe thead th {\n",
       "        text-align: right;\n",
       "    }\n",
       "</style>\n",
       "<table border=\"1\" class=\"dataframe\">\n",
       "  <thead>\n",
       "    <tr style=\"text-align: right;\">\n",
       "      <th></th>\n",
       "      <th>n_nodes</th>\n",
       "      <th>n_cores</th>\n",
       "      <th>time2</th>\n",
       "    </tr>\n",
       "  </thead>\n",
       "  <tbody>\n",
       "    <tr>\n",
       "      <th>685</th>\n",
       "      <td>20</td>\n",
       "      <td>30</td>\n",
       "      <td>26.79</td>\n",
       "    </tr>\n",
       "    <tr>\n",
       "      <th>687</th>\n",
       "      <td>20</td>\n",
       "      <td>30</td>\n",
       "      <td>27.56</td>\n",
       "    </tr>\n",
       "    <tr>\n",
       "      <th>1011</th>\n",
       "      <td>25</td>\n",
       "      <td>24</td>\n",
       "      <td>25.40</td>\n",
       "    </tr>\n",
       "    <tr>\n",
       "      <th>1013</th>\n",
       "      <td>25</td>\n",
       "      <td>24</td>\n",
       "      <td>24.37</td>\n",
       "    </tr>\n",
       "    <tr>\n",
       "      <th>1335</th>\n",
       "      <td>30</td>\n",
       "      <td>20</td>\n",
       "      <td>23.58</td>\n",
       "    </tr>\n",
       "    <tr>\n",
       "      <th>1337</th>\n",
       "      <td>30</td>\n",
       "      <td>20</td>\n",
       "      <td>23.32</td>\n",
       "    </tr>\n",
       "  </tbody>\n",
       "</table>\n",
       "</div>"
      ],
      "text/plain": [
       "      n_nodes  n_cores  time2\n",
       "685        20       30  26.79\n",
       "687        20       30  27.56\n",
       "1011       25       24  25.40\n",
       "1013       25       24  24.37\n",
       "1335       30       20  23.58\n",
       "1337       30       20  23.32"
      ]
     },
     "execution_count": 5,
     "metadata": {},
     "output_type": "execute_result"
    }
   ],
   "source": [
    "df.query(\"grid_step==20 and subdomain_ratio == 1 and single_precision == 1 and n_procs == 600\")[[\"n_nodes\", \"n_cores\", \"time2\"]].sort_values([\"n_nodes\", \"n_cores\"])"
   ]
  },
  {
   "cell_type": "code",
   "execution_count": 6,
   "metadata": {},
   "outputs": [
    {
     "data": {
      "text/html": [
       "<div>\n",
       "<style scoped>\n",
       "    .dataframe tbody tr th:only-of-type {\n",
       "        vertical-align: middle;\n",
       "    }\n",
       "\n",
       "    .dataframe tbody tr th {\n",
       "        vertical-align: top;\n",
       "    }\n",
       "\n",
       "    .dataframe thead th {\n",
       "        text-align: right;\n",
       "    }\n",
       "</style>\n",
       "<table border=\"1\" class=\"dataframe\">\n",
       "  <thead>\n",
       "    <tr style=\"text-align: right;\">\n",
       "      <th></th>\n",
       "      <th>n_nodes</th>\n",
       "      <th>n_cores</th>\n",
       "      <th>time2</th>\n",
       "    </tr>\n",
       "  </thead>\n",
       "  <tbody>\n",
       "    <tr>\n",
       "      <th>1577</th>\n",
       "      <td>33</td>\n",
       "      <td>32</td>\n",
       "      <td>18.88</td>\n",
       "    </tr>\n",
       "    <tr>\n",
       "      <th>1579</th>\n",
       "      <td>33</td>\n",
       "      <td>32</td>\n",
       "      <td>18.14</td>\n",
       "    </tr>\n",
       "    <tr>\n",
       "      <th>2265</th>\n",
       "      <td>44</td>\n",
       "      <td>24</td>\n",
       "      <td>16.56</td>\n",
       "    </tr>\n",
       "    <tr>\n",
       "      <th>2267</th>\n",
       "      <td>44</td>\n",
       "      <td>24</td>\n",
       "      <td>15.79</td>\n",
       "    </tr>\n",
       "    <tr>\n",
       "      <th>2519</th>\n",
       "      <td>48</td>\n",
       "      <td>22</td>\n",
       "      <td>15.73</td>\n",
       "    </tr>\n",
       "    <tr>\n",
       "      <th>2521</th>\n",
       "      <td>48</td>\n",
       "      <td>22</td>\n",
       "      <td>15.40</td>\n",
       "    </tr>\n",
       "  </tbody>\n",
       "</table>\n",
       "</div>"
      ],
      "text/plain": [
       "      n_nodes  n_cores  time2\n",
       "1577       33       32  18.88\n",
       "1579       33       32  18.14\n",
       "2265       44       24  16.56\n",
       "2267       44       24  15.79\n",
       "2519       48       22  15.73\n",
       "2521       48       22  15.40"
      ]
     },
     "execution_count": 6,
     "metadata": {},
     "output_type": "execute_result"
    }
   ],
   "source": [
    "df.query(\"grid_step==20 and subdomain_ratio == 1 and single_precision == 1 and n_procs == 1056\")[[\"n_nodes\", \"n_cores\", \"time2\"]].sort_values([\"n_nodes\", \"n_cores\"])"
   ]
  },
  {
   "cell_type": "markdown",
   "metadata": {},
   "source": [
    "Si può notare come, a parità di processi, distribuendo i core su più nodi si abbiano tempi di esecuzione più bassi."
   ]
  }
 ],
 "metadata": {
  "kernelspec": {
   "display_name": "Python 3",
   "language": "python",
   "name": "python3"
  },
  "language_info": {
   "codemirror_mode": {
    "name": "ipython",
    "version": 3
   },
   "file_extension": ".py",
   "mimetype": "text/x-python",
   "name": "python",
   "nbconvert_exporter": "python",
   "pygments_lexer": "ipython3",
   "version": "3.8.7"
  }
 },
 "nbformat": 4,
 "nbformat_minor": 4
}
